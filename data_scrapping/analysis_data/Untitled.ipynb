{
 "cells": [
  {
   "cell_type": "code",
   "execution_count": 1,
   "metadata": {},
   "outputs": [
    {
     "name": "stdout",
     "output_type": "stream",
     "text": [
      "https://tiki.vn/Activity%20/c14838?src=c.8322.hamburger_menu_fly_out_banner&_lc=Vk4wMzkwMjIwMDk%3D\n"
     ]
    }
   ],
   "source": [
    "import re\n",
    "\n",
    "link = 'https://tiki.vn/Activity%20/c14838?src=c.8322.hamburger_menu_fly_out_banner&_lc=Vk4wMzkwMjIwMDk%3D'\n",
    "\n",
    "link_t = re.sub(\"(\\([0-9]*\\))\",\"\",link)\n",
    "print(link_t)"
   ]
  }
 ],
 "metadata": {
  "kernelspec": {
   "display_name": "Python 3",
   "language": "python",
   "name": "python3"
  },
  "language_info": {
   "codemirror_mode": {
    "name": "ipython",
    "version": 3
   },
   "file_extension": ".py",
   "mimetype": "text/x-python",
   "name": "python",
   "nbconvert_exporter": "python",
   "pygments_lexer": "ipython3",
   "version": "3.6.10"
  }
 },
 "nbformat": 4,
 "nbformat_minor": 4
}
