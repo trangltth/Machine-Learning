{
 "cells": [
  {
   "cell_type": "code",
   "execution_count": 104,
   "metadata": {},
   "outputs": [
    {
     "data": {
      "text/plain": [
       "business_type\n",
       "NA             14\n",
       "enterprise    411\n",
       "household      49\n",
       "Name: supplier_id, dtype: int64"
      ]
     },
     "execution_count": 104,
     "metadata": {},
     "output_type": "execute_result"
    }
   ],
   "source": [
    "import pandas as pd\n",
    "import numpy as np\n",
    "import psycopg2\n",
    "# import sys\n",
    "# sys.path.insert(0,'/home/trang/working/projects/Machine-Learning/data_scrapping/')\n",
    "from constants import tiki_information\n",
    "\n",
    "conn = psycopg2.connect(tiki_information.db_connection)\n",
    "\n",
    "cur = conn.cursor()\n",
    "cur.execute('''with recursive category_tree (category_id, category_name, level, is_leaf) as (\n",
    "                    select category_id, category_name, 0 as level, 0 as is_leaf\n",
    "                    from categories\n",
    "                    where category_id = 1846\n",
    "\n",
    "                    union all\n",
    "\n",
    "                    select c.category_id, c.category_name, ct.level+1 as level, case when not exists \n",
    "                    (select 1 from categories where parent_id = c.category_id) then 1 else 0 end as is_leaf\n",
    "                    from categories c \n",
    "                        join category_tree ct on c.parent_id = ct.category_id\n",
    "                )\n",
    "                select distinct s.supplier_id, s.supplier_name, s.supplier_extra_information\n",
    "                from suppliers s\n",
    "                    join supplier_product_mapping spm on spm.supplier_id = s.supplier_id\n",
    "                    join products p on p.product_id = spm.product_id\n",
    "                    join category_product_detail cpd on cpd.product_id = p.product_id\n",
    "                    join category_tree c on c.category_id = cpd.category_id and c.is_leaf = 1;''')\n",
    "suppliers = cur.fetchall()\n",
    "c_suppliers = pd.DataFrame(suppliers, columns = ['supplier_id', 'supplier_name', 'extra_information'])\n",
    "c_suppliers['business_type'] = c_suppliers['extra_information'].apply(lambda x: x['business_type'])\n",
    "c_suppliers.loc[c_suppliers['business_type'].isna(),'business_type'] = 'NA'\n",
    "c_suppliers.groupby('business_type').count()['supplier_id']"
   ]
  },
  {
   "cell_type": "code",
   "execution_count": 103,
   "metadata": {},
   "outputs": [
    {
     "data": {
      "text/plain": [
       "inventory_type\n",
       "NA                    19\n",
       "backorder            452\n",
       "backorder,virtual      2\n",
       "cross_border           1\n",
       "Name: supplier_id, dtype: int64"
      ]
     },
     "execution_count": 103,
     "metadata": {},
     "output_type": "execute_result"
    }
   ],
   "source": [
    "c_suppliers['inventory_type'] = c_suppliers['extra_information'].apply(lambda x:x['inventory_type'])\n",
    "is_inventory_type_na = c_suppliers['inventory_type'].isna()\n",
    "c_suppliers.loc[is_inventory_type_na,'inventory_type'] = 'NA'\n",
    "c_suppliers.loc[c_suppliers['inventory_type'] == '','inventory_type'] = 'NA'\n",
    "c_suppliers.groupby('inventory_type').count()['supplier_id']"
   ]
  },
  {
   "cell_type": "code",
   "execution_count": null,
   "metadata": {
    "collapsed": true,
    "jupyter": {
     "outputs_hidden": true
    }
   },
   "outputs": [],
   "source": [
    "{\n",
    "    \"id\": 73305,\n",
    "    \"code\": \"S00073305\",\n",
    "    \"logo\": \"https://vcdn.tikicdn.com/ts/seller/8e/25/1b/c8c4bb3dd19235890818a8284cad3658.png\",\n",
    "    \"name\": \"Công Nghệ và Truyền Thông Zlink\",\n",
    "    \"status\": 1,\n",
    "    \"live_at\": \"Tue Aug 27 2019 08:25:07 GMT+0700 (+07)\",\n",
    "    \"url_slug\": \"cong-nghe-va-truyen-thong-zlink\",\n",
    "    \"created_at\": \"2019-08-27 07:28:45\",\n",
    "    \"meta_title\": \"Công Nghệ và Truyền Thông Zlink | Cửa hàng Công Nghệ và Truyền Thông Zlink trên Tiki.vn\",\n",
    "    \"updated_at\": \"2019-10-11 11:10:28\",\n",
    "    \"is_verified\": true,\n",
    "    \"website_url\": null,\n",
    "    \"business_type\": \"enterprise\",\n",
    "    \"logo_printing\": null,\n",
    "    \"inventory_type\": \"backorder\",\n",
    "    \"referenced_from\": \"\",\n",
    "    \"meta_description\": \"Mua online sản phẩm của cửa hàng Công Nghệ và Truyền Thông Zlink trên Tiki.vn. ✓ chất lượng cao, uy  tín, giá tốt  ✓ Chính hãng ✓ Giao hàng toàn quốc\",\n",
    "    \"product_quantity\": 6,\n",
    "    \"is_all_vat_supported\": 0\n",
    "}"
   ]
  }
 ],
 "metadata": {
  "kernelspec": {
   "display_name": "Python 3",
   "language": "python",
   "name": "python3"
  },
  "language_info": {
   "codemirror_mode": {
    "name": "ipython",
    "version": 3
   },
   "file_extension": ".py",
   "mimetype": "text/x-python",
   "name": "python",
   "nbconvert_exporter": "python",
   "pygments_lexer": "ipython3",
   "version": "3.6.10"
  }
 },
 "nbformat": 4,
 "nbformat_minor": 4
}
