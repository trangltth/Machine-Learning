{
 "cells": [
  {
   "cell_type": "code",
   "execution_count": 4,
   "metadata": {},
   "outputs": [
    {
     "name": "stdout",
     "output_type": "stream",
     "text": [
      "['/home/trang/working/softwares/spark-2.4.5-bin-hadoop2.7/python', '/home/trang/working/softwares/spark-2.4.5-bin-hadoop2.7/python/lib/py4j-0.10.8.1-src.zip', '/home/trang/working/projects/Machine-Learning/data_scrapping/analysis_data/twitter', '/usr/lib/python36.zip', '/usr/lib/python3.6', '/usr/lib/python3.6/lib-dynload', '', '/home/trang/.local/lib/python3.6/site-packages', '/usr/local/lib/python3.6/dist-packages', '/usr/lib/python3/dist-packages', '/home/trang/.local/lib/python3.6/site-packages/IPython/extensions', '/home/trang/.ipython']\n"
     ]
    }
   ],
   "source": [
    "import numpy as np\n",
    "import pandas as pd\n",
    "import psycopg2\n",
    "import sys\n",
    "print(sys.path)\n",
    "sys.path.append('/home/trang/working/projects/Machine-Learning/data_scrapping')\n",
    "from constants import twitter"
   ]
  },
  {
   "cell_type": "markdown",
   "metadata": {},
   "source": [
    "#### Data topic analysis\n",
    "explore users table:\n",
    "    - what is strength parts of each users"
   ]
  },
  {
   "cell_type": "code",
   "execution_count": 5,
   "metadata": {},
   "outputs": [
    {
     "data": {
      "text/html": [
       "<div>\n",
       "<style scoped>\n",
       "    .dataframe tbody tr th:only-of-type {\n",
       "        vertical-align: middle;\n",
       "    }\n",
       "\n",
       "    .dataframe tbody tr th {\n",
       "        vertical-align: top;\n",
       "    }\n",
       "\n",
       "    .dataframe thead th {\n",
       "        text-align: right;\n",
       "    }\n",
       "</style>\n",
       "<table border=\"1\" class=\"dataframe\">\n",
       "  <thead>\n",
       "    <tr style=\"text-align: right;\">\n",
       "      <th></th>\n",
       "      <th>user_id</th>\n",
       "      <th>user_name</th>\n",
       "      <th>screen_name</th>\n",
       "      <th>location</th>\n",
       "      <th>description</th>\n",
       "      <th>url</th>\n",
       "      <th>raw_data</th>\n",
       "    </tr>\n",
       "  </thead>\n",
       "  <tbody>\n",
       "    <tr>\n",
       "      <th>0</th>\n",
       "      <td>788898706586275840</td>\n",
       "      <td>Towards Data Science</td>\n",
       "      <td>TDataScience</td>\n",
       "      <td>We're Global 🌏</td>\n",
       "      <td>A Medium publication sharing concepts, ideas, ...</td>\n",
       "      <td>https://t.co/kt7xo7C48P</td>\n",
       "      <td>{'id': 788898706586275840, 'url': 'https://t.c...</td>\n",
       "    </tr>\n",
       "    <tr>\n",
       "      <th>1</th>\n",
       "      <td>760888575214977024</td>\n",
       "      <td>Caleb Kaiser</td>\n",
       "      <td>KaiserFrose</td>\n",
       "      <td>New York, USA</td>\n",
       "      <td>magic @Cortex_Deploy. formerly a Cadillac at @...</td>\n",
       "      <td>None</td>\n",
       "      <td>{'id': 760888575214977024, 'url': None, 'lang'...</td>\n",
       "    </tr>\n",
       "    <tr>\n",
       "      <th>2</th>\n",
       "      <td>3230388598</td>\n",
       "      <td>Mara Averick</td>\n",
       "      <td>dataandme</td>\n",
       "      <td>Missoula, MT</td>\n",
       "      <td>tidyverse 🥑 @rstudio, 🏀 hoop head, gnashgab, b...</td>\n",
       "      <td>https://t.co/ZANWJjTExr</td>\n",
       "      <td>{'id': 3230388598, 'url': 'https://t.co/ZANWJj...</td>\n",
       "    </tr>\n",
       "    <tr>\n",
       "      <th>3</th>\n",
       "      <td>2343198944</td>\n",
       "      <td>Data Science Renee</td>\n",
       "      <td>BecomingDataSci</td>\n",
       "      <td>Harrisonburg, VA</td>\n",
       "      <td>Director of Data Science at @HelioCampus || Be...</td>\n",
       "      <td>https://t.co/zv9NrlwFSg</td>\n",
       "      <td>{'id': 2343198944, 'url': 'https://t.co/zv9Nrl...</td>\n",
       "    </tr>\n",
       "    <tr>\n",
       "      <th>4</th>\n",
       "      <td>1408142352</td>\n",
       "      <td>Rachel Thomas</td>\n",
       "      <td>math_rachel</td>\n",
       "      <td>San Francisco, CA</td>\n",
       "      <td>Director of USF Center for Applied Data Ethics...</td>\n",
       "      <td>https://t.co/LMSqxIYyBX</td>\n",
       "      <td>{'id': 1408142352, 'url': 'https://t.co/LMSqxI...</td>\n",
       "    </tr>\n",
       "    <tr>\n",
       "      <th>5</th>\n",
       "      <td>393033324</td>\n",
       "      <td>Data Science Central</td>\n",
       "      <td>DataScienceCtrl</td>\n",
       "      <td>Los Angeles, CA</td>\n",
       "      <td>Co-founded by Vincent Granville and part the D...</td>\n",
       "      <td>http://t.co/gbSIHZcKZR</td>\n",
       "      <td>{'id': 393033324, 'url': 'http://t.co/gbSIHZcK...</td>\n",
       "    </tr>\n",
       "    <tr>\n",
       "      <th>6</th>\n",
       "      <td>376464264</td>\n",
       "      <td>BigDataDan</td>\n",
       "      <td>BigDataDan</td>\n",
       "      <td>Chicago &amp; Nashville USA</td>\n",
       "      <td>Big Data and Analytics #Teradata #Hadoop, #Rea...</td>\n",
       "      <td>None</td>\n",
       "      <td>{'id': 376464264, 'url': None, 'lang': None, '...</td>\n",
       "    </tr>\n",
       "    <tr>\n",
       "      <th>7</th>\n",
       "      <td>216939636</td>\n",
       "      <td>Andrew Ng</td>\n",
       "      <td>AndrewYNg</td>\n",
       "      <td>Palo Alto, CA</td>\n",
       "      <td>Co-Founder of Coursera; Stanford CS adjunct fa...</td>\n",
       "      <td>https://t.co/XidcMETENd</td>\n",
       "      <td>{'id': 216939636, 'url': 'https://t.co/XidcMET...</td>\n",
       "    </tr>\n",
       "    <tr>\n",
       "      <th>8</th>\n",
       "      <td>215035672</td>\n",
       "      <td>Caitlin Hudon 👩🏼‍💻</td>\n",
       "      <td>beeonaposy</td>\n",
       "      <td>Austin, TX</td>\n",
       "      <td>Data, traveling, and tacos. New mom. Lead Data...</td>\n",
       "      <td>https://t.co/JRQNzorJCb</td>\n",
       "      <td>{'id': 215035672, 'url': 'https://t.co/JRQNzor...</td>\n",
       "    </tr>\n",
       "    <tr>\n",
       "      <th>9</th>\n",
       "      <td>17449590</td>\n",
       "      <td>SmartData Collective</td>\n",
       "      <td>SmartDataCo</td>\n",
       "      <td>New York, NY</td>\n",
       "      <td>SmartData Collective is one of the largest &amp; t...</td>\n",
       "      <td>https://t.co/69ife4YNnG</td>\n",
       "      <td>{'id': 17449590, 'url': 'https://t.co/69ife4YN...</td>\n",
       "    </tr>\n",
       "  </tbody>\n",
       "</table>\n",
       "</div>"
      ],
      "text/plain": [
       "              user_id             user_name      screen_name  \\\n",
       "0  788898706586275840  Towards Data Science     TDataScience   \n",
       "1  760888575214977024          Caleb Kaiser      KaiserFrose   \n",
       "2          3230388598          Mara Averick        dataandme   \n",
       "3          2343198944    Data Science Renee  BecomingDataSci   \n",
       "4          1408142352         Rachel Thomas      math_rachel   \n",
       "5           393033324  Data Science Central  DataScienceCtrl   \n",
       "6           376464264            BigDataDan       BigDataDan   \n",
       "7           216939636             Andrew Ng        AndrewYNg   \n",
       "8           215035672    Caitlin Hudon 👩🏼‍💻       beeonaposy   \n",
       "9            17449590  SmartData Collective      SmartDataCo   \n",
       "\n",
       "                  location                                        description  \\\n",
       "0           We're Global 🌏  A Medium publication sharing concepts, ideas, ...   \n",
       "1            New York, USA  magic @Cortex_Deploy. formerly a Cadillac at @...   \n",
       "2             Missoula, MT  tidyverse 🥑 @rstudio, 🏀 hoop head, gnashgab, b...   \n",
       "3         Harrisonburg, VA  Director of Data Science at @HelioCampus || Be...   \n",
       "4        San Francisco, CA  Director of USF Center for Applied Data Ethics...   \n",
       "5          Los Angeles, CA  Co-founded by Vincent Granville and part the D...   \n",
       "6  Chicago & Nashville USA  Big Data and Analytics #Teradata #Hadoop, #Rea...   \n",
       "7            Palo Alto, CA  Co-Founder of Coursera; Stanford CS adjunct fa...   \n",
       "8               Austin, TX  Data, traveling, and tacos. New mom. Lead Data...   \n",
       "9             New York, NY  SmartData Collective is one of the largest & t...   \n",
       "\n",
       "                       url                                           raw_data  \n",
       "0  https://t.co/kt7xo7C48P  {'id': 788898706586275840, 'url': 'https://t.c...  \n",
       "1                     None  {'id': 760888575214977024, 'url': None, 'lang'...  \n",
       "2  https://t.co/ZANWJjTExr  {'id': 3230388598, 'url': 'https://t.co/ZANWJj...  \n",
       "3  https://t.co/zv9NrlwFSg  {'id': 2343198944, 'url': 'https://t.co/zv9Nrl...  \n",
       "4  https://t.co/LMSqxIYyBX  {'id': 1408142352, 'url': 'https://t.co/LMSqxI...  \n",
       "5   http://t.co/gbSIHZcKZR  {'id': 393033324, 'url': 'http://t.co/gbSIHZcK...  \n",
       "6                     None  {'id': 376464264, 'url': None, 'lang': None, '...  \n",
       "7  https://t.co/XidcMETENd  {'id': 216939636, 'url': 'https://t.co/XidcMET...  \n",
       "8  https://t.co/JRQNzorJCb  {'id': 215035672, 'url': 'https://t.co/JRQNzor...  \n",
       "9  https://t.co/69ife4YNnG  {'id': 17449590, 'url': 'https://t.co/69ife4YN...  "
      ]
     },
     "execution_count": 5,
     "metadata": {},
     "output_type": "execute_result"
    }
   ],
   "source": [
    "conn = psycopg2.connect(twitter.db_connection)\n",
    "cur = conn.cursor()\n",
    "cur.execute('''select * from users where user_id not in ('1', '2', '3', '4', '5')''')\n",
    "users = pd.DataFrame(cur.fetchall(), columns = ['user_id', 'user_name', 'screen_name', 'location', 'description', 'url', 'raw_data'])\n",
    "users.iloc[:10,:]"
   ]
  },
  {
   "cell_type": "code",
   "execution_count": 6,
   "metadata": {},
   "outputs": [
    {
     "name": "stdout",
     "output_type": "stream",
     "text": [
      "(14, 8)\n"
     ]
    },
    {
     "data": {
      "text/plain": [
       "strengths\n",
       "the community covering techincal about bigdata, ai, bi, cloud, analytics, IoT            0\n",
       "the DSC community on data science, ml, ai, deep learning, dataviz, hadoop, IoT and BI    0\n",
       "digital technical, data science and ai                                                   0\n",
       "deep learning                                                                            0\n",
       "data scientist                                                                           0\n",
       "consultant analyst                                                                       0\n",
       "big data and analytics                                                                   0\n",
       "ai, machinelearning, deeplearning, moocs                                                 0\n",
       "a medium publication                                                                     0\n",
       "?                                                                                        0\n",
       "Name: user_id, dtype: int64"
      ]
     },
     "execution_count": 6,
     "metadata": {},
     "output_type": "execute_result"
    }
   ],
   "source": [
    "users = pd.DataFrame(cur.fetchall(), columns = ['user_id', 'user_name', 'screen_name', 'location', 'description', 'url', 'raw_data'])\n",
    "users[['user_id', 'user_name', 'description']]\n",
    "strengths = pd.Series(('a medium publication', '?', '?', 'data scientist', 'deep learning', \n",
    "                       'the DSC community on data science, ml, ai, deep learning, dataviz, hadoop, IoT and BI',\n",
    "                      'big data and analytics', 'ai, machinelearning, deeplearning, moocs', 'data scientist', \n",
    "                      'the community covering techincal about bigdata, ai, bi, cloud, analytics, IoT', 'consultant analyst',\n",
    "                      'digital technical, data science and ai', 'the DSC community on data science, ml, ai, deep learning, dataviz, hadoop, IoT and BI',\n",
    "                      'data scientist'))\n",
    "users = users.assign(strengths=strengths)\n",
    "users[['user_name', 'strengths']]\n",
    "print(users.shape)\n",
    "users.groupby(('strengths')).count()['user_id'].sort_values(ascending=False)"
   ]
  },
  {
   "cell_type": "markdown",
   "metadata": {},
   "source": [
    "#### Questions\n",
    "??? how to know users dataset is enough to continue analysis Data topic\n",
    "- Estimated time: 4.2 days (evening 01st - 04th-08-2020)\n",
    "- evening 01st: What are main sharings of each followers in Data topic?\n",
    "\n",
    "additional tasks:\n",
    "- how does Toward Data science works?"
   ]
  },
  {
   "cell_type": "code",
   "execution_count": 7,
   "metadata": {},
   "outputs": [
    {
     "data": {
      "text/plain": [
       "(1206, 8)"
      ]
     },
     "execution_count": 7,
     "metadata": {},
     "output_type": "execute_result"
    }
   ],
   "source": [
    "cur.execute('select * from tweets;')\n",
    "tweets = pd.DataFrame(cur.fetchall(), \n",
    "                      columns = ['tweet_id', 'text', 'user_mentions', 'raw_data', 'created_date', 'updated_date', 'inserted_date', 'user_id'])\n",
    "tweets.shape"
   ]
  },
  {
   "cell_type": "code",
   "execution_count": 8,
   "metadata": {},
   "outputs": [
    {
     "name": "stdout",
     "output_type": "stream",
     "text": [
      "                                                text        created_date  \\\n",
      "0  How to use Deep Learning for Time Series Forec... 2020-09-22 09:19:01   \n",
      "1  Ditching the AWS GUI Console by @cinemarob1  h... 2020-09-22 08:19:00   \n",
      "\n",
      "                                            raw_data  \n",
      "0  {'id': 1308334979743653888, 'geo': None, 'lang...  \n",
      "1  {'id': 1308319877267152904, 'geo': None, 'lang...  \n"
     ]
    }
   ],
   "source": [
    "pd.set_option('display.min_rows', 300)\n",
    "pd.set_option('display.max_rows', 500)\n",
    "# tweets['user_id'] = tweets['raw_data']['user']['id']\n",
    "print(tweets.loc[0:1,['text', 'created_date', 'raw_data']])"
   ]
  },
  {
   "cell_type": "code",
   "execution_count": 9,
   "metadata": {},
   "outputs": [
    {
     "data": {
      "text/html": [
       "<div>\n",
       "<style scoped>\n",
       "    .dataframe tbody tr th:only-of-type {\n",
       "        vertical-align: middle;\n",
       "    }\n",
       "\n",
       "    .dataframe tbody tr th {\n",
       "        vertical-align: top;\n",
       "    }\n",
       "\n",
       "    .dataframe thead th {\n",
       "        text-align: right;\n",
       "    }\n",
       "</style>\n",
       "<table border=\"1\" class=\"dataframe\">\n",
       "  <thead>\n",
       "    <tr style=\"text-align: right;\">\n",
       "      <th></th>\n",
       "      <th>tweet_id</th>\n",
       "      <th>text</th>\n",
       "      <th>user_mentions</th>\n",
       "      <th>raw_data</th>\n",
       "      <th>created_date</th>\n",
       "      <th>updated_date</th>\n",
       "      <th>inserted_date</th>\n",
       "      <th>user_id</th>\n",
       "    </tr>\n",
       "  </thead>\n",
       "  <tbody>\n",
       "    <tr>\n",
       "      <th>0</th>\n",
       "      <td>1308334979743653888</td>\n",
       "      <td>How to use Deep Learning for Time Series Forec...</td>\n",
       "      <td>[{'id': 1194330047693373441, 'name': 'Christop...</td>\n",
       "      <td>{'id': 1308334979743653888, 'geo': None, 'lang...</td>\n",
       "      <td>2020-09-22 09:19:01</td>\n",
       "      <td>2020-09-22 16:32:43.249097</td>\n",
       "      <td>2020-09-22 16:32:43.249097</td>\n",
       "      <td>788898706586275840</td>\n",
       "    </tr>\n",
       "    <tr>\n",
       "      <th>1</th>\n",
       "      <td>1308319877267152904</td>\n",
       "      <td>Ditching the AWS GUI Console by @cinemarob1  h...</td>\n",
       "      <td>[{'id': 400271796, 'name': 'Robert Boscacci', ...</td>\n",
       "      <td>{'id': 1308319877267152904, 'geo': None, 'lang...</td>\n",
       "      <td>2020-09-22 08:19:00</td>\n",
       "      <td>2020-09-22 16:32:43.258021</td>\n",
       "      <td>2020-09-22 16:32:43.258021</td>\n",
       "      <td>788898706586275840</td>\n",
       "    </tr>\n",
       "    <tr>\n",
       "      <th>2</th>\n",
       "      <td>1308304022667800576</td>\n",
       "      <td>How to Choose the Right Machine Learning Algor...</td>\n",
       "      <td>[{'id': 1140864609865256965, 'name': 'Sara A. ...</td>\n",
       "      <td>{'id': 1308304022667800576, 'geo': None, 'lang...</td>\n",
       "      <td>2020-09-22 07:16:00</td>\n",
       "      <td>2020-09-22 16:32:43.260080</td>\n",
       "      <td>2020-09-22 16:32:43.260080</td>\n",
       "      <td>788898706586275840</td>\n",
       "    </tr>\n",
       "    <tr>\n",
       "      <th>3</th>\n",
       "      <td>1308294208797642757</td>\n",
       "      <td>Clustering using k-Means with implementation b...</td>\n",
       "      <td>[]</td>\n",
       "      <td>{'id': 1308294208797642757, 'geo': None, 'lang...</td>\n",
       "      <td>2020-09-22 06:37:00</td>\n",
       "      <td>2020-09-22 16:32:43.261965</td>\n",
       "      <td>2020-09-22 16:32:43.261965</td>\n",
       "      <td>788898706586275840</td>\n",
       "    </tr>\n",
       "    <tr>\n",
       "      <th>4</th>\n",
       "      <td>1308273823326908419</td>\n",
       "      <td>Why You Shouldn’t Go to Casinos (3 Statistical...</td>\n",
       "      <td>[{'id': 380448211, 'name': 'Tomi Mester', 'id_...</td>\n",
       "      <td>{'id': 1308273823326908419, 'geo': None, 'lang...</td>\n",
       "      <td>2020-09-22 05:16:00</td>\n",
       "      <td>2020-09-22 16:32:43.264226</td>\n",
       "      <td>2020-09-22 16:32:43.264226</td>\n",
       "      <td>788898706586275840</td>\n",
       "    </tr>\n",
       "    <tr>\n",
       "      <th>5</th>\n",
       "      <td>1308267533523464193</td>\n",
       "      <td>A Data Warehouse Implementation on AWS by Anto...</td>\n",
       "      <td>[]</td>\n",
       "      <td>{'id': 1308267533523464193, 'geo': None, 'lang...</td>\n",
       "      <td>2020-09-22 04:51:01</td>\n",
       "      <td>2020-09-22 16:32:43.266271</td>\n",
       "      <td>2020-09-22 16:32:43.266271</td>\n",
       "      <td>788898706586275840</td>\n",
       "    </tr>\n",
       "    <tr>\n",
       "      <th>6</th>\n",
       "      <td>1308242871934386177</td>\n",
       "      <td>Linear Regression v.s. Neural Networks by Roma...</td>\n",
       "      <td>[]</td>\n",
       "      <td>{'id': 1308242871934386177, 'geo': None, 'lang...</td>\n",
       "      <td>2020-09-22 03:13:01</td>\n",
       "      <td>2020-09-22 16:32:43.268282</td>\n",
       "      <td>2020-09-22 16:32:43.268282</td>\n",
       "      <td>788898706586275840</td>\n",
       "    </tr>\n",
       "    <tr>\n",
       "      <th>7</th>\n",
       "      <td>1308230288837926914</td>\n",
       "      <td>Are You A Senior Data Scientist? by Ori Cohen ...</td>\n",
       "      <td>[]</td>\n",
       "      <td>{'id': 1308230288837926914, 'geo': None, 'lang...</td>\n",
       "      <td>2020-09-22 02:23:01</td>\n",
       "      <td>2020-09-22 16:32:43.270294</td>\n",
       "      <td>2020-09-22 16:32:43.270294</td>\n",
       "      <td>788898706586275840</td>\n",
       "    </tr>\n",
       "    <tr>\n",
       "      <th>8</th>\n",
       "      <td>1308217452355088387</td>\n",
       "      <td>Counting Cards With A Neural Net by @tonester5...</td>\n",
       "      <td>[{'id': 777531696, 'name': 'Tony Yiu', 'id_str...</td>\n",
       "      <td>{'id': 1308217452355088387, 'geo': None, 'lang...</td>\n",
       "      <td>2020-09-22 01:32:00</td>\n",
       "      <td>2020-09-22 16:32:43.272333</td>\n",
       "      <td>2020-09-22 16:32:43.272333</td>\n",
       "      <td>788898706586275840</td>\n",
       "    </tr>\n",
       "    <tr>\n",
       "      <th>9</th>\n",
       "      <td>1308197824010563586</td>\n",
       "      <td>Object-oriented programming is dead. Wait, rea...</td>\n",
       "      <td>[{'id': 952159198686703616, 'name': 'Rhea Mout...</td>\n",
       "      <td>{'id': 1308197824010563586, 'geo': None, 'lang...</td>\n",
       "      <td>2020-09-22 00:14:01</td>\n",
       "      <td>2020-09-22 16:32:43.274538</td>\n",
       "      <td>2020-09-22 16:32:43.274538</td>\n",
       "      <td>788898706586275840</td>\n",
       "    </tr>\n",
       "  </tbody>\n",
       "</table>\n",
       "</div>"
      ],
      "text/plain": [
       "              tweet_id                                               text  \\\n",
       "0  1308334979743653888  How to use Deep Learning for Time Series Forec...   \n",
       "1  1308319877267152904  Ditching the AWS GUI Console by @cinemarob1  h...   \n",
       "2  1308304022667800576  How to Choose the Right Machine Learning Algor...   \n",
       "3  1308294208797642757  Clustering using k-Means with implementation b...   \n",
       "4  1308273823326908419  Why You Shouldn’t Go to Casinos (3 Statistical...   \n",
       "5  1308267533523464193  A Data Warehouse Implementation on AWS by Anto...   \n",
       "6  1308242871934386177  Linear Regression v.s. Neural Networks by Roma...   \n",
       "7  1308230288837926914  Are You A Senior Data Scientist? by Ori Cohen ...   \n",
       "8  1308217452355088387  Counting Cards With A Neural Net by @tonester5...   \n",
       "9  1308197824010563586  Object-oriented programming is dead. Wait, rea...   \n",
       "\n",
       "                                       user_mentions  \\\n",
       "0  [{'id': 1194330047693373441, 'name': 'Christop...   \n",
       "1  [{'id': 400271796, 'name': 'Robert Boscacci', ...   \n",
       "2  [{'id': 1140864609865256965, 'name': 'Sara A. ...   \n",
       "3                                                 []   \n",
       "4  [{'id': 380448211, 'name': 'Tomi Mester', 'id_...   \n",
       "5                                                 []   \n",
       "6                                                 []   \n",
       "7                                                 []   \n",
       "8  [{'id': 777531696, 'name': 'Tony Yiu', 'id_str...   \n",
       "9  [{'id': 952159198686703616, 'name': 'Rhea Mout...   \n",
       "\n",
       "                                            raw_data        created_date  \\\n",
       "0  {'id': 1308334979743653888, 'geo': None, 'lang... 2020-09-22 09:19:01   \n",
       "1  {'id': 1308319877267152904, 'geo': None, 'lang... 2020-09-22 08:19:00   \n",
       "2  {'id': 1308304022667800576, 'geo': None, 'lang... 2020-09-22 07:16:00   \n",
       "3  {'id': 1308294208797642757, 'geo': None, 'lang... 2020-09-22 06:37:00   \n",
       "4  {'id': 1308273823326908419, 'geo': None, 'lang... 2020-09-22 05:16:00   \n",
       "5  {'id': 1308267533523464193, 'geo': None, 'lang... 2020-09-22 04:51:01   \n",
       "6  {'id': 1308242871934386177, 'geo': None, 'lang... 2020-09-22 03:13:01   \n",
       "7  {'id': 1308230288837926914, 'geo': None, 'lang... 2020-09-22 02:23:01   \n",
       "8  {'id': 1308217452355088387, 'geo': None, 'lang... 2020-09-22 01:32:00   \n",
       "9  {'id': 1308197824010563586, 'geo': None, 'lang... 2020-09-22 00:14:01   \n",
       "\n",
       "                updated_date              inserted_date             user_id  \n",
       "0 2020-09-22 16:32:43.249097 2020-09-22 16:32:43.249097  788898706586275840  \n",
       "1 2020-09-22 16:32:43.258021 2020-09-22 16:32:43.258021  788898706586275840  \n",
       "2 2020-09-22 16:32:43.260080 2020-09-22 16:32:43.260080  788898706586275840  \n",
       "3 2020-09-22 16:32:43.261965 2020-09-22 16:32:43.261965  788898706586275840  \n",
       "4 2020-09-22 16:32:43.264226 2020-09-22 16:32:43.264226  788898706586275840  \n",
       "5 2020-09-22 16:32:43.266271 2020-09-22 16:32:43.266271  788898706586275840  \n",
       "6 2020-09-22 16:32:43.268282 2020-09-22 16:32:43.268282  788898706586275840  \n",
       "7 2020-09-22 16:32:43.270294 2020-09-22 16:32:43.270294  788898706586275840  \n",
       "8 2020-09-22 16:32:43.272333 2020-09-22 16:32:43.272333  788898706586275840  \n",
       "9 2020-09-22 16:32:43.274538 2020-09-22 16:32:43.274538  788898706586275840  "
      ]
     },
     "execution_count": 9,
     "metadata": {},
     "output_type": "execute_result"
    }
   ],
   "source": [
    "tweets.iloc[:10,:]"
   ]
  },
  {
   "cell_type": "code",
   "execution_count": 15,
   "metadata": {},
   "outputs": [
    {
     "name": "stdout",
     "output_type": "stream",
     "text": [
      "user_id        object\n",
      "user_name      object\n",
      "screen_name    object\n",
      "location       object\n",
      "description    object\n",
      "url            object\n",
      "raw_data       object\n",
      "strengths      object\n",
      "dtype: object\n",
      "(14, 8)\n"
     ]
    },
    {
     "data": {
      "text/plain": [
       "pandas.core.series.Series"
      ]
     },
     "execution_count": 15,
     "metadata": {},
     "output_type": "execute_result"
    }
   ],
   "source": [
    "print(users.dtypes)\n",
    "print(users.shape)\n",
    "type(tweets.iloc[:0,:]['user_id'])"
   ]
  },
  {
   "cell_type": "code",
   "execution_count": 11,
   "metadata": {},
   "outputs": [
    {
     "data": {
      "text/plain": [
       "(0, 15)"
      ]
     },
     "execution_count": 11,
     "metadata": {},
     "output_type": "execute_result"
    }
   ],
   "source": [
    "# tweets['user_id'] = tweets['raw_data'].apply(lambda x:str(x['user']['id_str']))\n",
    "tweet_user_merging = tweets.merge(users, on='user_id', how='inner', suffixes=['_t','_u'])\n",
    "tweet_user_merging.shape"
   ]
  },
  {
   "cell_type": "code",
   "execution_count": 14,
   "metadata": {},
   "outputs": [
    {
     "data": {
      "text/html": [
       "<div>\n",
       "<style scoped>\n",
       "    .dataframe tbody tr th:only-of-type {\n",
       "        vertical-align: middle;\n",
       "    }\n",
       "\n",
       "    .dataframe tbody tr th {\n",
       "        vertical-align: top;\n",
       "    }\n",
       "\n",
       "    .dataframe thead th {\n",
       "        text-align: right;\n",
       "    }\n",
       "</style>\n",
       "<table border=\"1\" class=\"dataframe\">\n",
       "  <thead>\n",
       "    <tr style=\"text-align: right;\">\n",
       "      <th></th>\n",
       "      <th>user_id</th>\n",
       "      <th>user_name</th>\n",
       "    </tr>\n",
       "  </thead>\n",
       "  <tbody>\n",
       "  </tbody>\n",
       "</table>\n",
       "</div>"
      ],
      "text/plain": [
       "Empty DataFrame\n",
       "Columns: [user_id, user_name]\n",
       "Index: []"
      ]
     },
     "execution_count": 14,
     "metadata": {},
     "output_type": "execute_result"
    }
   ],
   "source": [
    "tweet_user_merging.iloc[:10,:][['user_id', 'user_name']]"
   ]
  },
  {
   "cell_type": "code",
   "execution_count": null,
   "metadata": {},
   "outputs": [],
   "source": [
    "tweet_user_merging[['text', 'raw_data']]"
   ]
  },
  {
   "cell_type": "code",
   "execution_count": null,
   "metadata": {},
   "outputs": [],
   "source": [
    "tweet_user_merging[['user_id', 'user_name', 'description','text',  'created_date']]\n"
   ]
  },
  {
   "cell_type": "code",
   "execution_count": null,
   "metadata": {},
   "outputs": [],
   "source": [
    "instered_users = tweet_user_merging['user_id'].isin(['788898706586275840','2343198944', '14174897', '17449590'])\n",
    "# tweet_user_merging[['user_id','user_name', 'location', 'description', 'text', 'created_date']].loc[instered_users,:]"
   ]
  },
  {
   "cell_type": "markdown",
   "metadata": {},
   "source": [
    "what are tweets sharings mainly of each followers?\n",
    "   * Data Science Central: current technologies trending: tools, kind of Deep Learning methods, analysis methods ... real case studies and instructions\n",
    "   * Data science Renee: explore sharing, improvement sharing (expert level)\n",
    "   * Toward Data Science: ideas, projects, case study, learning path completely processings\n",
    "   * Smart Data Collective: applying of data in bussiness \n",
    "\n",
    "Find beginer analyst level of followers\n",
    "\n",
    "What are next steps for analysis, collecting data planning? Data minding?\n",
    "   - Find more trending, applying and sharing followers or add more type of followers?\n",
    "       + following more people/branding: add 11 followers\n",
    "       ! put a question in timeline and understand how it works\n",
    "       "
   ]
  }
 ],
 "metadata": {
  "kernelspec": {
   "display_name": "Python 3",
   "language": "python",
   "name": "python3"
  },
  "language_info": {
   "codemirror_mode": {
    "name": "ipython",
    "version": 3
   },
   "file_extension": ".py",
   "mimetype": "text/x-python",
   "name": "python",
   "nbconvert_exporter": "python",
   "pygments_lexer": "ipython3",
   "version": "3.6.9"
  }
 },
 "nbformat": 4,
 "nbformat_minor": 4
}
