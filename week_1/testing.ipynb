{
 "cells": [
  {
   "cell_type": "code",
   "execution_count": 60,
   "metadata": {},
   "outputs": [
    {
     "data": {
      "text/plain": [
       "['https://tiki.vn/dien-thoai-may-tinh-bang/c1789?src=c.1789.hamburger_menu_fly_out_banner',\n",
       " 'Điện Thoại - Máy Tính Bảng']"
      ]
     },
     "execution_count": 60,
     "metadata": {},
     "output_type": "execute_result"
    }
   ],
   "source": [
    "from urllib.request import urlopen\n",
    "from bs4 import BeautifulSoup\n",
    "import json\n",
    "import pandas as pd\n",
    "import re\n",
    "import psycopg2\n",
    "\n",
    "html_main = urlopen(\"https://tiki.vn/\")\n",
    "bs_main = BeautifulSoup(html_main.read(), 'html.parser')\n",
    "\n",
    "categories_tag = bs_main.find(\"ul\",{\"class\":\"Navigation__Wrapper-s3youc-0 hWakax\"})\n",
    "\n",
    "product_link, category_name = [],[]\n",
    "\n",
    "for category in categories_tag.findAll(\"li\"):\n",
    "  product_link.append(category.a['href'])\n",
    "  category_name.append(category.select(\"span.text\")[0].get_text())\n",
    "\n",
    "# Todo: merge product and category\n",
    "\n",
    "html = urlopen(\"https://tiki.vn/dien-thoai-may-tinh-bang/c1789?src=c.1789.hamburger_menu_fly_out_banner\")\n",
    "bs = BeautifulSoup(html.read(), 'html.parser')\n",
    "\n",
    "\n",
    "titles, images, price, description = [],[],[],[]\n",
    "short_title, sub_category, tiki_now, review, rating = [],[],[],[],[]\n",
    "\n",
    "main_tag = bs.find('div',{\"class\":\"product-box-list\"})\n",
    "\n",
    "for tag in main_tag.findAll('div',{'class':'product-item'}):\n",
    "  cover = tag.a.div  \n",
    "  review_data = (\"\" if len(review_tag) == 0 else review_tag[0].get_text())\n",
    "  review_tag = tag.a.select(\"div.review-wrap > p.review\")\n",
    "  tiki_now_tag = cover.select(\"p.title\")[0].i  \n",
    "  sub_category.append(tag[\"data-category\"])\n",
    "  short_title.append(cover.select(\"p.title\")[0].get_text())\n",
    "  tiki_now.append(0 if (tiki_now_tag is None) else 1)\n",
    "  titles.append(tag.a['title'])\n",
    "  price.append(re.sub(\"[đ\\s\\.]*\",\"\",cover.select(\"p.price-sale\")[0].span.find(text=True,recursive=False)))\n",
    "  images.append(cover.img['src'])\n",
    "  review.append(re.sub(\"([\\(\\)])|(nhận xét)*\",\"\",review_data))\n",
    "  rating.append(int(re.sub(\"(width:)|(\\%)\",\"\",tag.a.select(\"div.review-wrap > p.rating > span.rating-content\")[0].span['style']))/100)\n",
    "\n",
    "product = {\"title\":titles, \"price\": price, \"image\":images, \n",
    "\"short_title\":short_title, \"sub_category\":sub_category, \"tiki_now\":tiki_now, \"num_review\":review,\n",
    "\"rating\": rating}\n",
    "\n",
    "# category = {\"product_link\": product_link, \"category_name\":category_name}\n",
    "\n",
    "df_product = pd.DataFrame(product)\n",
    "# df_category = pd.DataFrame(category)\n",
    "# df_product\n",
    "list(df_category.loc[0])\n"
   ]
  }
 ],
 "metadata": {
  "kernelspec": {
   "display_name": "Python 3",
   "language": "python",
   "name": "python3"
  },
  "language_info": {
   "codemirror_mode": {
    "name": "ipython",
    "version": 3
   },
   "file_extension": ".py",
   "mimetype": "text/x-python",
   "name": "python",
   "nbconvert_exporter": "python",
   "pygments_lexer": "ipython3",
   "version": "3.7.2"
  }
 },
 "nbformat": 4,
 "nbformat_minor": 2
}
