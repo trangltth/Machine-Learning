{
 "cells": [
  {
   "cell_type": "code",
   "execution_count": 20,
   "metadata": {},
   "outputs": [
    {
     "name": "stdout",
     "output_type": "stream",
     "text": [
      "None\n"
     ]
    },
    {
     "data": {
      "text/plain": [
       "2.8284271247461903"
      ]
     },
     "execution_count": 20,
     "metadata": {},
     "output_type": "execute_result"
    }
   ],
   "source": [
    "import math\n",
    "\n",
    "class point:\n",
    "    def __init__(self,x=None,y=None):\n",
    "        self.x = x\n",
    "        self.y = y\n",
    "    \n",
    "    def move(self,x,y):\n",
    "        self.x = x\n",
    "        self.y = y\n",
    "    \n",
    "    def reset():\n",
    "        self.move(0,0)\n",
    "        \n",
    "    def calculate_distance(self, other):\n",
    "        return math.sqrt((self.x - other.x)**2 + (self.y - other.y)**2)\n",
    "\n",
    "a = point(3,4)\n",
    "\n",
    "b = point(1,2)\n",
    "\n",
    "c = point()\n",
    "\n",
    "print(c.x)\n",
    "\n",
    "a.calculate_distance(b)\n",
    "# help(str)"
   ]
  },
  {
   "cell_type": "code",
   "execution_count": 27,
   "metadata": {},
   "outputs": [
    {
     "name": "stdout",
     "output_type": "stream",
     "text": [
      "2.0\n"
     ]
    }
   ],
   "source": [
    "import math\n",
    "class Database:\n",
    "    pass\n",
    "\n",
    "database = None\n",
    "\n",
    "def init_database():\n",
    "    global database\n",
    "    database = Database()\n",
    "\n",
    "print(math.sqrt(4))"
   ]
  }
 ],
 "metadata": {
  "kernelspec": {
   "display_name": "Python 3",
   "language": "python",
   "name": "python3"
  },
  "language_info": {
   "codemirror_mode": {
    "name": "ipython",
    "version": 3
   },
   "file_extension": ".py",
   "mimetype": "text/x-python",
   "name": "python",
   "nbconvert_exporter": "python",
   "pygments_lexer": "ipython3",
   "version": "3.7.2"
  }
 },
 "nbformat": 4,
 "nbformat_minor": 2
}
